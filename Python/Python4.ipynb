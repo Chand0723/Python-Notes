{
 "cells": [
  {
   "cell_type": "code",
   "execution_count": 1,
   "metadata": {},
   "outputs": [],
   "source": [
    "# Author : Chand Pasha\n",
    "# Last Updated : 22-06-2020\n",
    "# This notebook contains OOPs"
   ]
  },
  {
   "cell_type": "markdown",
   "metadata": {},
   "source": [
    "## OOPs\n",
    "\n",
    "Python is a multi-paradigm programming language. It allows programmers to choose the paradigm that best suits the problem.<br>\n",
    "**Programming Pardigms :**<br>\n",
    "**Procedural** - Modules, datastructures and procedures that operate on them.<br>\n",
    "**Objectural** - Objects which encapsulates state and behaviour and messages passed between these. objects<br>\n",
    "**Functional** - Functions, closures, recursion, lists etc..<br>\n",
    "The four principles of object-oriented programmimg are encapsulation, abstraction, inheritance and Polymorphism <br>\n",
    "In Python, classes are derived from object. Python objects have data and function attributes. Always define data attributes in __init__ , class attributes are shared across all instances."
   ]
  },
  {
   "cell_type": "markdown",
   "metadata": {},
   "source": [
    "1. An object is a software item that contains variables and methods\n",
    "2. Classes are simply name spaces or class is a blue print/template"
   ]
  },
  {
   "cell_type": "markdown",
   "metadata": {},
   "source": [
    "**Encapsulation :** Dividing the code into public interface and a private implementation of that interface. Encapsulation is achieved when each object keeps it's state private, inside the class. other objects don't have direct access to this state. Instead they can oly call a list of public function called methods<br>\n",
    "**Polymorphism :** The ability to overload standard operators sp that they have appropriate behavior based on their context. Plymorphism gives a way to use a class exactly like it's parent so there is no confusion with mixing types. but each child class keeps it's own methods as they are. <br>\n",
    "**Inheritance :** The ability to create subclasses that contain specializations of their parents"
   ]
  },
  {
   "cell_type": "markdown",
   "metadata": {},
   "source": [
    "Abstarction can be thought of as natural extension to Encapsulation. Applying abstraction means, each object should only expose a higher level mechanism for using it. This should hide the internal implementation details. It should only reveal opeartions relevent for their objects <br>\n",
    "Eg : Coffe Machine\n"
   ]
  },
  {
   "cell_type": "code",
   "execution_count": 6,
   "metadata": {},
   "outputs": [],
   "source": [
    "class circle() :\n",
    "    pi = 3.14 \n",
    "    def __init__(self, radius):\n",
    "        self.radius = radius        \n",
    "    def get_circumference(self):\n",
    "        return self.radius*self.pi*2"
   ]
  },
  {
   "cell_type": "code",
   "execution_count": 8,
   "metadata": {},
   "outputs": [
    {
     "name": "stdout",
     "output_type": "stream",
     "text": [
      "12.56\n"
     ]
    }
   ],
   "source": [
    "abc = circle(2)\n",
    "print(abc.get_circumference())"
   ]
  },
  {
   "cell_type": "markdown",
   "metadata": {},
   "source": [
    "Inheritance is the capability of one class derive or inherit properties from another class"
   ]
  },
  {
   "cell_type": "code",
   "execution_count": 9,
   "metadata": {},
   "outputs": [],
   "source": [
    "# special methods start and end with two underscores and customize standard python behaviour\n",
    "\n",
    "class Book():\n",
    "    def __init__(self, name, author, pages):\n",
    "        self.name = name\n",
    "        self.author = author\n",
    "        self.pages = pages\n",
    "    def __str__(self):\n",
    "        return f'{self.author} from {self.name}'\n",
    "    def __len(self):\n",
    "        return self.pages\n",
    "    def __del__(self):\n",
    "        print('Book Object deleted')"
   ]
  },
  {
   "cell_type": "markdown",
   "metadata": {},
   "source": [
    "#### Methods\n",
    "Methods are custom functions specifically designed to interact with objects. one of the benifits of using OOPs is that un necessary details can be abstarcted away in the implementation of methods. <br>\n",
    "A Method is called on an object, which means that as well as able to receive data from outside, a method can use all of the data stored inside the object as well.<br>\n",
    "The blueprint we create for an object is called class<br>\n",
    "Putting an instance of an object inside another object is called ***Aggregation***\n"
   ]
  },
  {
   "cell_type": "code",
   "execution_count": 10,
   "metadata": {},
   "outputs": [
    {
     "data": {
      "text/plain": [
       "['__add__',\n",
       " '__class__',\n",
       " '__contains__',\n",
       " '__delattr__',\n",
       " '__delitem__',\n",
       " '__dir__',\n",
       " '__doc__',\n",
       " '__eq__',\n",
       " '__format__',\n",
       " '__ge__',\n",
       " '__getattribute__',\n",
       " '__getitem__',\n",
       " '__gt__',\n",
       " '__hash__',\n",
       " '__iadd__',\n",
       " '__imul__',\n",
       " '__init__',\n",
       " '__init_subclass__',\n",
       " '__iter__',\n",
       " '__le__',\n",
       " '__len__',\n",
       " '__lt__',\n",
       " '__mul__',\n",
       " '__ne__',\n",
       " '__new__',\n",
       " '__reduce__',\n",
       " '__reduce_ex__',\n",
       " '__repr__',\n",
       " '__reversed__',\n",
       " '__rmul__',\n",
       " '__setattr__',\n",
       " '__setitem__',\n",
       " '__sizeof__',\n",
       " '__str__',\n",
       " '__subclasshook__',\n",
       " 'append',\n",
       " 'clear',\n",
       " 'copy',\n",
       " 'count',\n",
       " 'extend',\n",
       " 'index',\n",
       " 'insert',\n",
       " 'pop',\n",
       " 'remove',\n",
       " 'reverse',\n",
       " 'sort']"
      ]
     },
     "execution_count": 10,
     "metadata": {},
     "output_type": "execute_result"
    }
   ],
   "source": [
    "# We can take a look at the capabilities of an object by looking at the output of the dir() function\n",
    "stuff = list()\n",
    "dir(stuff)"
   ]
  },
  {
   "cell_type": "code",
   "execution_count": null,
   "metadata": {},
   "outputs": [],
   "source": []
  }
 ],
 "metadata": {
  "kernelspec": {
   "display_name": "Python 3",
   "language": "python",
   "name": "python3"
  },
  "language_info": {
   "codemirror_mode": {
    "name": "ipython",
    "version": 3
   },
   "file_extension": ".py",
   "mimetype": "text/x-python",
   "name": "python",
   "nbconvert_exporter": "python",
   "pygments_lexer": "ipython3",
   "version": "3.7.7"
  }
 },
 "nbformat": 4,
 "nbformat_minor": 2
}
