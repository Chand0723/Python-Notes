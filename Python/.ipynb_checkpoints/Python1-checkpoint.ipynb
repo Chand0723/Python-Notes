{
 "cells": [
  {
   "cell_type": "code",
   "execution_count": 1,
   "metadata": {},
   "outputs": [],
   "source": [
    "# Author : Chand Pasha\n",
    "# Last Updated : 23-02-2021\n",
    "# This Notebook contains Basics, Flow Control, Functions and Exception handling "
   ]
  },
  {
   "cell_type": "markdown",
   "metadata": {},
   "source": [
    "## Python Basics"
   ]
  },
  {
   "cell_type": "markdown",
   "metadata": {},
   "source": [
    "Expressions consists of values and operators. They always evaluate down to a single value <br>\n",
    "The order of Operations : PEMDAS <br>\n",
    "if Order prcedence is sam we have to evaluate from left to right <br>\n",
    "** <br>\n",
    "*, /, //, % - left to right <br>\n",
    "+, - - left to right <br>\n",
    "\n",
    "We can use paranthasis to override precedence"
   ]
  },
  {
   "cell_type": "code",
   "execution_count": 2,
   "metadata": {},
   "outputs": [
    {
     "data": {
      "text/plain": [
       "4"
      ]
     },
     "execution_count": 2,
     "metadata": {},
     "output_type": "execute_result"
    }
   ],
   "source": [
    " 2 + 3 - 1"
   ]
  },
  {
   "cell_type": "markdown",
   "metadata": {},
   "source": [
    "1. The most commom datatypes in python are :\n",
    "2. Integer - int , Floating Point - float, Strings - str, List -list, Tuple - tup, Dictionary - dict\n",
    "3. Sets - set, Booleans - bool\n",
    "4. Integer Values are whole numbers\n",
    "5. Numbers with decimal point are called flaoting point numbers\n",
    "6. Strings are sequence of characters, either single or double quotes can be used.\n",
    "\n",
    "We will store variables with an assignment statement. An assignment statement consists of variable name and equal sign"
   ]
  },
  {
   "cell_type": "code",
   "execution_count": 3,
   "metadata": {},
   "outputs": [
    {
     "data": {
      "text/plain": [
       "'Hello World'"
      ]
     },
     "execution_count": 3,
     "metadata": {},
     "output_type": "execute_result"
    }
   ],
   "source": [
    "'''\n",
    "+ - String concatination operator\n",
    "* - String replication operator\n",
    "\n",
    "'''\n",
    "\n",
    "'Hello ' + 'World'"
   ]
  },
  {
   "cell_type": "code",
   "execution_count": 4,
   "metadata": {},
   "outputs": [
    {
     "data": {
      "text/plain": [
       "'Hello Hello Hello '"
      ]
     },
     "execution_count": 4,
     "metadata": {},
     "output_type": "execute_result"
    }
   ],
   "source": [
    "'Hello ' * 3"
   ]
  },
  {
   "cell_type": "markdown",
   "metadata": {},
   "source": [
    "#### Variable Names : ####\n",
    "1. It can only be one word\n",
    "2. It Can't start with Number\n",
    "3. No spaces allowed. Use _ insted\n",
    "4. keep the in lowercase and avoid key word\n",
    "5. Can't use special characters\n",
    "6. Variable names are case sensitive\n",
    "\n",
    "A good variable name describe data it contains"
   ]
  },
  {
   "cell_type": "code",
   "execution_count": 5,
   "metadata": {},
   "outputs": [],
   "source": [
    "spam = 42"
   ]
  },
  {
   "cell_type": "markdown",
   "metadata": {},
   "source": [
    "1. print() function displays the value inside the paranthasis\n",
    "2. A value that is passed to a function call is called argument"
   ]
  },
  {
   "cell_type": "code",
   "execution_count": 6,
   "metadata": {},
   "outputs": [
    {
     "name": "stdout",
     "output_type": "stream",
     "text": [
      "Hello World\n"
     ]
    }
   ],
   "source": [
    "print('Hello World')"
   ]
  },
  {
   "cell_type": "markdown",
   "metadata": {},
   "source": [
    "print() function has optional parameters **end** and **sep** to specify what should be printed at the\n",
    "end of it's arguements and between it's arguments"
   ]
  },
  {
   "cell_type": "code",
   "execution_count": 7,
   "metadata": {},
   "outputs": [
    {
     "name": "stdout",
     "output_type": "stream",
     "text": [
      "Hello World\n",
      "cat dog mic\n",
      "cat,dog,mic\n"
     ]
    }
   ],
   "source": [
    "print('Hello', end = ' ')\n",
    "print('World')\n",
    "print('cat', 'dog', 'mic')\n",
    "print('cat', 'dog', 'mic', sep = ',')"
   ]
  },
  {
   "cell_type": "markdown",
   "metadata": {},
   "source": [
    "1. input() function takes input from keyboard.\n",
    "2. It takes everything as string and returns a string\n",
    "3. len() function returns length of the variable/argument u passed in\n",
    "4. round() function used to round a float value to required not of decimal places\n",
    "5. type() checks the type of the variable\n",
    "6. the int(), float() and str() functions will evaluate the integer, floating-point and string forms of the value you passed respectively"
   ]
  },
  {
   "cell_type": "code",
   "execution_count": 8,
   "metadata": {},
   "outputs": [
    {
     "name": "stdout",
     "output_type": "stream",
     "text": [
      "Enter Your Name : Chand\n",
      "Hello Chand\n"
     ]
    }
   ],
   "source": [
    "my_name = input('Enter Your Name : ')\n",
    "print(f'Hello {my_name}')"
   ]
  },
  {
   "cell_type": "code",
   "execution_count": 9,
   "metadata": {},
   "outputs": [
    {
     "data": {
      "text/plain": [
       "5"
      ]
     },
     "execution_count": 9,
     "metadata": {},
     "output_type": "execute_result"
    }
   ],
   "source": [
    "len('Hello')"
   ]
  },
  {
   "cell_type": "code",
   "execution_count": 10,
   "metadata": {},
   "outputs": [
    {
     "data": {
      "text/plain": [
       "2.675"
      ]
     },
     "execution_count": 10,
     "metadata": {},
     "output_type": "execute_result"
    }
   ],
   "source": [
    "round(2.67543, 3)"
   ]
  },
  {
   "cell_type": "code",
   "execution_count": 11,
   "metadata": {},
   "outputs": [
    {
     "name": "stdout",
     "output_type": "stream",
     "text": [
      "<class 'int'>\n",
      "<class 'str'>\n"
     ]
    }
   ],
   "source": [
    "print(type(3))\n",
    "print(type('abc'))"
   ]
  },
  {
   "cell_type": "code",
   "execution_count": 12,
   "metadata": {},
   "outputs": [
    {
     "name": "stdout",
     "output_type": "stream",
     "text": [
      "Hello World!\n",
      "Enter your Name : Chand Pasha\n",
      "It's good to meet you Chand Pasha \n",
      "Length of your name is : 11\n",
      "Enter your Age : 23\n",
      "You will be 24 in a year\n"
     ]
    }
   ],
   "source": [
    "# First program\n",
    "\n",
    "print('Hello World!')\n",
    "name = input('Enter your Name : ')\n",
    "print(f'It\\'s good to meet you {name} ')\n",
    "print(f'Length of your name is : {len(name)}')\n",
    "age = input('Enter your Age : ')\n",
    "print(f'You will be {int(age) + 1} in a year')"
   ]
  },
  {
   "cell_type": "markdown",
   "metadata": {},
   "source": [
    "## Flow Control"
   ]
  },
  {
   "cell_type": "markdown",
   "metadata": {},
   "source": [
    "1. Flow control statements can decide which python instructions to execute under which conditions\n",
    "2. Boolean datatype has two values : True and False. \n",
    "3. Comparision operators compare two values and evaluate down to a single value\n",
    "4. Comparision operators : ==, !=, <, >, <= , >=\n",
    "5. == and != operators work with any datatype, remaining operators works only with integer and floating point numbers\n"
   ]
  },
  {
   "cell_type": "code",
   "execution_count": 13,
   "metadata": {},
   "outputs": [
    {
     "data": {
      "text/plain": [
       "True"
      ]
     },
     "execution_count": 13,
     "metadata": {},
     "output_type": "execute_result"
    }
   ],
   "source": [
    "'Hello' == 'Hello'"
   ]
  },
  {
   "cell_type": "code",
   "execution_count": 14,
   "metadata": {},
   "outputs": [
    {
     "data": {
      "text/plain": [
       "True"
      ]
     },
     "execution_count": 14,
     "metadata": {},
     "output_type": "execute_result"
    }
   ],
   "source": [
    "42 == 42.0"
   ]
  },
  {
   "cell_type": "code",
   "execution_count": 15,
   "metadata": {},
   "outputs": [
    {
     "data": {
      "text/plain": [
       "False"
      ]
     },
     "execution_count": 15,
     "metadata": {},
     "output_type": "execute_result"
    }
   ],
   "source": [
    "42 == '42'"
   ]
  },
  {
   "cell_type": "markdown",
   "metadata": {},
   "source": [
    "1. Three boolean operators **and**, **or**, **not** are used to compare boolean values.\n",
    "2. The **and** and **or** operators take always two boolean values, so they are considered as binary operators\n",
    "3. The **not** operator operates only on one boolean value"
   ]
  },
  {
   "cell_type": "code",
   "execution_count": 16,
   "metadata": {},
   "outputs": [
    {
     "name": "stdout",
     "output_type": "stream",
     "text": [
      "Type of the variable is Complex\n"
     ]
    }
   ],
   "source": [
    "# if...elif...else\n",
    "\n",
    "var1 = 1+2j\n",
    "\n",
    "if (type(var1) == int):\n",
    "    print('Type of the variable is Integer')\n",
    "elif (type(var1) == float):\n",
    "    print('Type of the variable is Float')\n",
    "elif (type(var1) == complex):\n",
    "    print('Type of the variable is Complex')\n",
    "elif (type(var1) == bool):\n",
    "    print('Type of the variable is Bool')\n",
    "elif (type(var1) == str):\n",
    "    print('Type of the variable is String')\n",
    "elif (type(var1) == tuple):\n",
    "    print('Type of the variable is Tuple')\n",
    "elif (type(var1) == dict):\n",
    "    print('Type of the variable is Dictionaries')\n",
    "elif (type(var1) == list):\n",
    "    print('Type of the variable is List')\n",
    "else:\n",
    "    print('Type of the variable is Unknown')"
   ]
  },
  {
   "cell_type": "code",
   "execution_count": 17,
   "metadata": {},
   "outputs": [
    {
     "name": "stdout",
     "output_type": "stream",
     "text": [
      "You are eligible to see the Football match.\n",
      "Tic kit price is $20\n"
     ]
    }
   ],
   "source": [
    "age = 38\n",
    "if age >= 11 :\n",
    "    print('You are eligible to see the Football match.')\n",
    "    if age <= 20 or age >= 60 :\n",
    "        print('Ticket price is $12')\n",
    "    else :\n",
    "        print('Tic kit price is $20')\n",
    "else :\n",
    "    print('You\\'re not eligible to buy a ticket.')"
   ]
  },
  {
   "cell_type": "code",
   "execution_count": 18,
   "metadata": {},
   "outputs": [
    {
     "name": "stdout",
     "output_type": "stream",
     "text": [
      "0\n",
      "1\n",
      "2\n",
      "3\n",
      "4\n",
      "x is greater than 5\n"
     ]
    }
   ],
   "source": [
    "# we can make a block of code to execute over and over again with a while statement. Code in the while  clause \n",
    "# executed as long as the condition is True.\n",
    "\n",
    "x = 0\n",
    "while x<5 :\n",
    "    print(f'{x}')\n",
    "    x = x+1\n",
    "else :\n",
    "    print('x is greater than 5')\n",
    "    "
   ]
  },
  {
   "cell_type": "markdown",
   "metadata": {},
   "source": [
    "1. If **break** statement is reached, the program execution immediately exits the loop\n",
    "2. If **continue** statement is reached, the program execution immediately jumps back to the start of the loop and reevaluates the loop's condition\n",
    "3. **Pass** statement does nothing"
   ]
  },
  {
   "cell_type": "code",
   "execution_count": 19,
   "metadata": {},
   "outputs": [
    {
     "name": "stdout",
     "output_type": "stream",
     "text": [
      "5050\n"
     ]
    }
   ],
   "source": [
    "# we can use for loops to execute a block of code for every iteration\n",
    "\n",
    "total = 0\n",
    "for i in range(101):\n",
    "    total = total + i\n",
    "print(total)"
   ]
  },
  {
   "cell_type": "code",
   "execution_count": 20,
   "metadata": {},
   "outputs": [
    {
     "name": "stdout",
     "output_type": "stream",
     "text": [
      "0 2 4 6 8 "
     ]
    }
   ],
   "source": [
    "# range(start, stop, step)\n",
    "for i in range(0, 10, 2) :\n",
    "    print(i, end = ' ')"
   ]
  },
  {
   "cell_type": "markdown",
   "metadata": {},
   "source": [
    "python comes with a set of modules called standard libraries. Each module is a python program that contains a related group of functions that can be embedded in our programs.\n",
    "Eg : math, random\n"
   ]
  },
  {
   "cell_type": "code",
   "execution_count": 21,
   "metadata": {},
   "outputs": [],
   "source": [
    "import os, sys, math\n",
    "from random import *"
   ]
  },
  {
   "cell_type": "markdown",
   "metadata": {},
   "source": [
    "we can cause a program to terminate or exit by calling **sys.exit()** function"
   ]
  },
  {
   "cell_type": "markdown",
   "metadata": {},
   "source": [
    "## Functions##\n",
    "\n",
    "Functions are the primary way to compartmentalize your code into logical groups,and are a great tool. to organize the code\n",
    "\n",
    "1. Functions allow us to create a block of code that can be easily executed many times avoiding repetitive code\n",
    "2. The code is executed when function is called, not when defined\n",
    "3. We can use **return** keyword to send back the result of the function instead of just printing it \n",
    "4. A parameter is a variable that an argument is stored in when function is called\n",
    "5. None represents the absence of a value. None is the only value of NoneType Data type. print() returns None. \n",
    "6. keyword arguments are identified by the keyword put before them in the function call. keyword arguments are often used for optional parameters"
   ]
  },
  {
   "cell_type": "code",
   "execution_count": 22,
   "metadata": {},
   "outputs": [
    {
     "name": "stdout",
     "output_type": "stream",
     "text": [
      "9\n"
     ]
    }
   ],
   "source": [
    "def add_func(num1, num2):\n",
    "    return num1+num2\n",
    "\n",
    "result = add_func(4,5)\n",
    "print(result)"
   ]
  },
  {
   "cell_type": "markdown",
   "metadata": {},
   "source": [
    "**Scope** defines the visibility of variables <br>\n",
    "LEGB Rule : <br>\n",
    "L - local <br>\n",
    "E - enclosed local <br>\n",
    "G - global <br>\n",
    "B - Bult-in <br>\n",
    "\n",
    "A variable must be one or the other. It can't be both local and global. code in global scope can't use any local variables, however local scope can access global variables. code in one local scope can't use variables in other local scopes. <br>\n",
    "\n",
    "We can check for local and global variables with locals() & globals() functions"
   ]
  },
  {
   "cell_type": "markdown",
   "metadata": {},
   "source": [
    "## Exception Handling\n",
    "\n",
    "1. Errors can be handled with try and except statements\n",
    "2. The code that could potentially have an error is put in a **try** clasue\n",
    "3. When the code in the **try** clause causes an error, the program execution immediately moves to the code in except clause.\n",
    "4. finally is used if a block of code to be executed regardless of error"
   ]
  },
  {
   "cell_type": "code",
   "execution_count": 23,
   "metadata": {},
   "outputs": [
    {
     "name": "stdout",
     "output_type": "stream",
     "text": [
      "14.0\n"
     ]
    }
   ],
   "source": [
    "def spam(a, b) :\n",
    "    try :\n",
    "        return a/b\n",
    "    except :\n",
    "        print('Error : Can\\'t devide by Zero')\n",
    "\n",
    "print(spam(42,3))"
   ]
  },
  {
   "cell_type": "code",
   "execution_count": 24,
   "metadata": {},
   "outputs": [
    {
     "name": "stdout",
     "output_type": "stream",
     "text": [
      "Error : Can't devide by Zero\n",
      "None\n"
     ]
    }
   ],
   "source": [
    "print(spam(23,0))"
   ]
  },
  {
   "cell_type": "code",
   "execution_count": null,
   "metadata": {},
   "outputs": [],
   "source": []
  }
 ],
 "metadata": {
  "kernelspec": {
   "display_name": "Python 3",
   "language": "python",
   "name": "python3"
  },
  "language_info": {
   "codemirror_mode": {
    "name": "ipython",
    "version": 3
   },
   "file_extension": ".py",
   "mimetype": "text/x-python",
   "name": "python",
   "nbconvert_exporter": "python",
   "pygments_lexer": "ipython3",
   "version": "3.8.3"
  }
 },
 "nbformat": 4,
 "nbformat_minor": 2
}
