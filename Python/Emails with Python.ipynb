{
 "cells": [
  {
   "cell_type": "code",
   "execution_count": 1,
   "metadata": {},
   "outputs": [],
   "source": [
    "# Author : Chand Pasha\n",
    "# Last Updated : 25-02-2021\n",
    "# This notebook conatins sending and receiving emails with python"
   ]
  },
  {
   "cell_type": "markdown",
   "metadata": {},
   "source": [
    "### Sending Emails :\n",
    "\n",
    "We can use smtplib library to send emails with Python\n",
    "\n",
    "To send emails with Python we need to foolow these steps :\n",
    "\n",
    "1. Connection to email server\n",
    "2. Confieming connection\n",
    "3. Setting up a communication protocol\n",
    "4. Logging and Sending the message\n",
    "\n",
    "SMTP - Simple Mail Transfer Protocol\n",
    "\n"
   ]
  },
  {
   "cell_type": "markdown",
   "metadata": {},
   "source": [
    "* Gmail: smtp.gmail.com \n",
    "* Hotmail: smtp.live.com\n",
    "* Outlook: outlook.office365.com\n",
    "* Yahoo: smtp.mail.yahoo.com"
   ]
  },
  {
   "cell_type": "code",
   "execution_count": 2,
   "metadata": {},
   "outputs": [],
   "source": [
    "import smtplib # to send emails\n",
    "import getpass # for hidden passwords"
   ]
  },
  {
   "cell_type": "code",
   "execution_count": 3,
   "metadata": {},
   "outputs": [],
   "source": [
    "smtp_object = smtplib.SMTP('smtp.gmail.com', 587)"
   ]
  },
  {
   "cell_type": "code",
   "execution_count": 4,
   "metadata": {},
   "outputs": [
    {
     "data": {
      "text/plain": [
       "(250,\n",
       " b'smtp.gmail.com at your service, [2409:4070:2597:709b:3c75:cf2c:358d:167b]\\nSIZE 35882577\\n8BITMIME\\nSTARTTLS\\nENHANCEDSTATUSCODES\\nPIPELINING\\nCHUNKING\\nSMTPUTF8')"
      ]
     },
     "execution_count": 4,
     "metadata": {},
     "output_type": "execute_result"
    }
   ],
   "source": [
    "smtp_object.ehlo()"
   ]
  },
  {
   "cell_type": "code",
   "execution_count": 5,
   "metadata": {},
   "outputs": [
    {
     "data": {
      "text/plain": [
       "(220, b'2.0.0 Ready to start TLS')"
      ]
     },
     "execution_count": 5,
     "metadata": {},
     "output_type": "execute_result"
    }
   ],
   "source": [
    "smtp_object.starttls()"
   ]
  },
  {
   "cell_type": "code",
   "execution_count": 6,
   "metadata": {},
   "outputs": [
    {
     "name": "stdout",
     "output_type": "stream",
     "text": [
      "Email :········\n"
     ]
    }
   ],
   "source": [
    "email = getpass.getpass('Email :')"
   ]
  },
  {
   "cell_type": "markdown",
   "metadata": {},
   "source": [
    "For Gmail Users, you need to generate an app password instead of your normal email password. This also requires enabling 2-step authentication. Follow the instructions here to set-up 2-Step Factor Authentication as well as App Password Generation:https://support.google.com/accounts/answer/185833?hl=en/. Set-up 2 Factor Authentication, then create the App Password, choose Mail as the App and give it any name you want. This will output a 16 letter password for you. Pass in this password as your login password for the smtp."
   ]
  },
  {
   "cell_type": "code",
   "execution_count": 7,
   "metadata": {},
   "outputs": [
    {
     "name": "stdout",
     "output_type": "stream",
     "text": [
      "Password :········\n"
     ]
    }
   ],
   "source": [
    "password = getpass.getpass('Password :')"
   ]
  },
  {
   "cell_type": "code",
   "execution_count": 8,
   "metadata": {},
   "outputs": [
    {
     "data": {
      "text/plain": [
       "(235, b'2.7.0 Accepted')"
      ]
     },
     "execution_count": 8,
     "metadata": {},
     "output_type": "execute_result"
    }
   ],
   "source": [
    "smtp_object.login(email, password)"
   ]
  },
  {
   "cell_type": "code",
   "execution_count": 9,
   "metadata": {},
   "outputs": [
    {
     "name": "stdout",
     "output_type": "stream",
     "text": [
      "Enter subject : Test mail with Python\n",
      "Enter message body : Hey, I am sending again\n"
     ]
    }
   ],
   "source": [
    "from_address = email\n",
    "to_address = email\n",
    "subject = input('Enter subject : ')\n",
    "body = input('Enter message body : ')\n",
    "message = 'Subject : ' + subject + '\\n' + 'Body : ' + body"
   ]
  },
  {
   "cell_type": "code",
   "execution_count": 10,
   "metadata": {},
   "outputs": [
    {
     "name": "stdout",
     "output_type": "stream",
     "text": [
      "Subject : Test mail with Python\n",
      "Body : Hey, I am sending again\n"
     ]
    }
   ],
   "source": [
    "print(message)"
   ]
  },
  {
   "cell_type": "code",
   "execution_count": 11,
   "metadata": {},
   "outputs": [
    {
     "data": {
      "text/plain": [
       "{}"
      ]
     },
     "execution_count": 11,
     "metadata": {},
     "output_type": "execute_result"
    }
   ],
   "source": [
    "smtp_object.sendmail(from_address, to_address, message)"
   ]
  },
  {
   "cell_type": "code",
   "execution_count": 12,
   "metadata": {},
   "outputs": [
    {
     "data": {
      "text/plain": [
       "(221, b'2.0.0 closing connection w188sm7133852pfw.177 - gsmtp')"
      ]
     },
     "execution_count": 12,
     "metadata": {},
     "output_type": "execute_result"
    }
   ],
   "source": [
    "smtp_object.quit()"
   ]
  },
  {
   "cell_type": "markdown",
   "metadata": {},
   "source": [
    "### Receiving Emails :\n",
    "\n",
    "To view received emails we can use built-in imaplib and email libraries in pythons"
   ]
  },
  {
   "cell_type": "code",
   "execution_count": 31,
   "metadata": {},
   "outputs": [],
   "source": [
    "import imaplib\n",
    "import email as e"
   ]
  },
  {
   "cell_type": "code",
   "execution_count": 14,
   "metadata": {},
   "outputs": [],
   "source": [
    "m = imaplib.IMAP4_SSL('imap.gmail.com')"
   ]
  },
  {
   "cell_type": "code",
   "execution_count": 17,
   "metadata": {},
   "outputs": [
    {
     "name": "stdout",
     "output_type": "stream",
     "text": [
      "Email : ········\n",
      "Password : ········\n"
     ]
    }
   ],
   "source": [
    "email = getpass.getpass('Email : ')\n",
    "password = getpass.getpass('Password : ')"
   ]
  },
  {
   "cell_type": "code",
   "execution_count": 18,
   "metadata": {},
   "outputs": [
    {
     "data": {
      "text/plain": [
       "('OK', [b'chandpasha0723@gmail.com authenticated (Success)'])"
      ]
     },
     "execution_count": 18,
     "metadata": {},
     "output_type": "execute_result"
    }
   ],
   "source": [
    "m.login(email, password)"
   ]
  },
  {
   "cell_type": "code",
   "execution_count": 19,
   "metadata": {},
   "outputs": [
    {
     "data": {
      "text/plain": [
       "('OK',\n",
       " [b'(\\\\HasNoChildren) \"/\" \"INBOX\"',\n",
       "  b'(\\\\HasChildren \\\\Noselect) \"/\" \"[Gmail]\"',\n",
       "  b'(\\\\All \\\\HasNoChildren) \"/\" \"[Gmail]/All Mail\"',\n",
       "  b'(\\\\HasNoChildren \\\\Trash) \"/\" \"[Gmail]/Bin\"',\n",
       "  b'(\\\\Drafts \\\\HasNoChildren) \"/\" \"[Gmail]/Drafts\"',\n",
       "  b'(\\\\HasNoChildren \\\\Important) \"/\" \"[Gmail]/Important\"',\n",
       "  b'(\\\\HasNoChildren \\\\Sent) \"/\" \"[Gmail]/Sent Mail\"',\n",
       "  b'(\\\\HasNoChildren \\\\Junk) \"/\" \"[Gmail]/Spam\"',\n",
       "  b'(\\\\Flagged \\\\HasNoChildren) \"/\" \"[Gmail]/Starred\"'])"
      ]
     },
     "execution_count": 19,
     "metadata": {},
     "output_type": "execute_result"
    }
   ],
   "source": [
    "m.list()"
   ]
  },
  {
   "cell_type": "code",
   "execution_count": 20,
   "metadata": {},
   "outputs": [
    {
     "data": {
      "text/plain": [
       "('OK', [b'125'])"
      ]
     },
     "execution_count": 20,
     "metadata": {},
     "output_type": "execute_result"
    }
   ],
   "source": [
    "m.select('inbox')"
   ]
  },
  {
   "cell_type": "code",
   "execution_count": 21,
   "metadata": {},
   "outputs": [],
   "source": [
    "typ ,data = m.search(None,'SUBJECT \"Python Email\"')"
   ]
  },
  {
   "cell_type": "code",
   "execution_count": 22,
   "metadata": {},
   "outputs": [],
   "source": [
    "email_id = data[0]"
   ]
  },
  {
   "cell_type": "code",
   "execution_count": 23,
   "metadata": {},
   "outputs": [],
   "source": [
    "result, email_data = m.fetch(email_id, '(RFC822)')"
   ]
  },
  {
   "cell_type": "code",
   "execution_count": 24,
   "metadata": {},
   "outputs": [
    {
     "name": "stdout",
     "output_type": "stream",
     "text": [
      "[(b'124 (RFC822 {598}', b'Bcc: chandpasha0723@gmail.com\\r\\nReturn-Path: <chandpasha0723@gmail.com>\\r\\nReceived: from 235.43.168.192.in-addr.arpa ([2409:4070:2597:709b:3c75:cf2c:358d:167b])\\r\\n        by smtp.gmail.com with ESMTPSA id b9sm6436747pgn.42.2021.02.25.10.50.55\\r\\n        for <chandpasha0723@gmail.com>\\r\\n        (version=TLS1_3 cipher=TLS_AES_256_GCM_SHA384 bits=256/256);\\r\\n        Thu, 25 Feb 2021 10:50:56 -0800 (PST)\\r\\nMessage-ID: <6037f190.1c69fb81.76f23.df23@mx.google.com>\\r\\nDate: Thu, 25 Feb 2021 10:50:56 -0800 (PST)\\r\\nFrom: chandpasha0723@gmail.com\\r\\nSubject : Python Email\\r\\nBody : Hello There, This is test mail\\r\\n\\r\\n'), b')']\n"
     ]
    }
   ],
   "source": [
    "print(email_data)"
   ]
  },
  {
   "cell_type": "code",
   "execution_count": 26,
   "metadata": {},
   "outputs": [
    {
     "data": {
      "text/plain": [
       "b'Bcc: chandpasha0723@gmail.com\\r\\nReturn-Path: <chandpasha0723@gmail.com>\\r\\nReceived: from 235.43.168.192.in-addr.arpa ([2409:4070:2597:709b:3c75:cf2c:358d:167b])\\r\\n        by smtp.gmail.com with ESMTPSA id b9sm6436747pgn.42.2021.02.25.10.50.55\\r\\n        for <chandpasha0723@gmail.com>\\r\\n        (version=TLS1_3 cipher=TLS_AES_256_GCM_SHA384 bits=256/256);\\r\\n        Thu, 25 Feb 2021 10:50:56 -0800 (PST)\\r\\nMessage-ID: <6037f190.1c69fb81.76f23.df23@mx.google.com>\\r\\nDate: Thu, 25 Feb 2021 10:50:56 -0800 (PST)\\r\\nFrom: chandpasha0723@gmail.com\\r\\nSubject : Python Email\\r\\nBody : Hello There, This is test mail\\r\\n\\r\\n'"
      ]
     },
     "execution_count": 26,
     "metadata": {},
     "output_type": "execute_result"
    }
   ],
   "source": [
    "email_data[0][1].decode"
   ]
  },
  {
   "cell_type": "code",
   "execution_count": 27,
   "metadata": {},
   "outputs": [
    {
     "data": {
      "text/plain": [
       "'Bcc: chandpasha0723@gmail.com\\r\\nReturn-Path: <chandpasha0723@gmail.com>\\r\\nReceived: from 235.43.168.192.in-addr.arpa ([2409:4070:2597:709b:3c75:cf2c:358d:167b])\\r\\n        by smtp.gmail.com with ESMTPSA id b9sm6436747pgn.42.2021.02.25.10.50.55\\r\\n        for <chandpasha0723@gmail.com>\\r\\n        (version=TLS1_3 cipher=TLS_AES_256_GCM_SHA384 bits=256/256);\\r\\n        Thu, 25 Feb 2021 10:50:56 -0800 (PST)\\r\\nMessage-ID: <6037f190.1c69fb81.76f23.df23@mx.google.com>\\r\\nDate: Thu, 25 Feb 2021 10:50:56 -0800 (PST)\\r\\nFrom: chandpasha0723@gmail.com\\r\\nSubject : Python Email\\r\\nBody : Hello There, This is test mail\\r\\n\\r\\n'"
      ]
     },
     "execution_count": 27,
     "metadata": {},
     "output_type": "execute_result"
    }
   ],
   "source": [
    "email_data[0][1].decode('utf-8')"
   ]
  },
  {
   "cell_type": "code",
   "execution_count": 32,
   "metadata": {},
   "outputs": [],
   "source": [
    "raw_email = email_data[0][1].decode('utf-8')\n",
    "email_message = e.message_from_string(raw_email)"
   ]
  },
  {
   "cell_type": "code",
   "execution_count": 33,
   "metadata": {},
   "outputs": [
    {
     "name": "stdout",
     "output_type": "stream",
     "text": [
      "b'Subject : Python Email\\r\\nBody : Hello There, This is test mail\\r\\n\\r\\n'\n"
     ]
    }
   ],
   "source": [
    "for i in email_message.walk():\n",
    "    if i.get_content_type() == 'text/plain':\n",
    "        body = i.get_payload(decode=True)\n",
    "        print(body)"
   ]
  },
  {
   "cell_type": "code",
   "execution_count": null,
   "metadata": {},
   "outputs": [],
   "source": []
  }
 ],
 "metadata": {
  "kernelspec": {
   "display_name": "Python 3",
   "language": "python",
   "name": "python3"
  },
  "language_info": {
   "codemirror_mode": {
    "name": "ipython",
    "version": 3
   },
   "file_extension": ".py",
   "mimetype": "text/x-python",
   "name": "python",
   "nbconvert_exporter": "python",
   "pygments_lexer": "ipython3",
   "version": "3.8.3"
  }
 },
 "nbformat": 4,
 "nbformat_minor": 4
}
